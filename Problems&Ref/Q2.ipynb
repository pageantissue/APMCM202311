{
 "cells": [
  {
   "cell_type": "code",
   "execution_count": null,
   "metadata": {
    "collapsed": true
   },
   "outputs": [],
   "source": [
    "import os\n",
    "import pandas as pd\n",
    "import numpy as np\n",
    "import matplotlib.pyplot as plt\n",
    "from statsmodels.tsa.arima.model import ARIMA\n",
    "from statsmodels.stats.diagnostic import acorr_ljungbox\n",
    "from sklearn.model_selection import TimeSeriesSplit\n",
    "from sklearn.metrics import mean_squared_error"
   ]
  },
  {
   "cell_type": "code",
   "execution_count": null,
   "outputs": [],
   "source": [
    "def get_file_path(folder_name):\n",
    "    paths = []\n",
    "    folder_name = os.path.join(os.curdir, folder_name)\n",
    "    for file_name in os.listdir(folder_name):\n",
    "        path = os.path.join(folder_name, file_name)\n",
    "        if path.lower().endswith(\".xlsx\"):\n",
    "            paths.append(path)\n",
    "        else: paths.append(get_file_path(path))\n",
    "    return paths"
   ],
   "metadata": {
    "collapsed": false
   }
  },
  {
   "cell_type": "code",
   "execution_count": 108,
   "outputs": [],
   "source": [
    "path = './国内各省汽油定价'\n",
    "spath = './5city'\n",
    "for f in os.listdir(path):\n",
    "    filepath = os.path.join(path, f)\n",
    "    df = pd.read_csv(filepath)\n",
    "    df['Date'] = pd.to_datetime(df['Date'])\n",
    "    # 选择时间范围\n",
    "    start_date = '2016-01-01'\n",
    "    end_date = '2022-12-31'\n",
    "\n",
    "    savepath = os.path.join(spath, f)\n",
    "    # 通过布尔索引选择符合条件的数据\n",
    "    df = df[(df['Date'] >= start_date) & (df['Date'] <= end_date)]\n",
    "\n",
    "    # 按年份和月份分组\n",
    "    grouped = df.groupby([df['Date'].dt.year, df['Date'].dt.month])\n",
    "\n",
    "    # 选择每月的最后一天\n",
    "    result = grouped.last()\n",
    "\n",
    "    # 将日期格式修改为\"y-m\"\n",
    "    result['Date'] = result['Date'].dt.strftime('%Y-%m')\n",
    "\n",
    "    result.to_csv(savepath, index = False)"
   ],
   "metadata": {
    "collapsed": false
   }
  },
  {
   "cell_type": "code",
   "execution_count": null,
   "outputs": [],
   "source": [
    "fp1 = get_file_path('2016-2022各省份公共充电桩保有量')\n",
    "fp2 = get_file_path('汽油历史调价')"
   ],
   "metadata": {
    "collapsed": false
   }
  },
  {
   "cell_type": "code",
   "execution_count": null,
   "outputs": [],
   "source": [
    "charger_data_sum = [0,0,0,0,0,0,0]\n",
    "for i in range(len(fp1)):\n",
    "    charger_data = pd.read_excel(fp1[i])\n",
    "    charger_data_sum[i] = charger_data['公共充电桩保有量（台）'].sum()"
   ],
   "metadata": {
    "collapsed": false
   }
  },
  {
   "cell_type": "code",
   "execution_count": null,
   "outputs": [],
   "source": [
    "gas_price_data = pd.read_excel(fp2[1])\n",
    "gas_price_data.head(10)"
   ],
   "metadata": {
    "collapsed": false
   }
  },
  {
   "cell_type": "code",
   "execution_count": null,
   "outputs": [],
   "source": [
    "gas_price_data['调整日期'] = pd.to_datetime(gas_price_data['调整日期'])\n",
    "gas_price_data.set_index('调整日期', inplace=True)\n",
    "gas_price_data.head(10)"
   ],
   "metadata": {
    "collapsed": false
   }
  },
  {
   "cell_type": "code",
   "execution_count": null,
   "outputs": [],
   "source": [
    "# 可视化历史油价走势\n",
    "plt.figure(figsize=(12, 6))\n",
    "plt.plot(gas_price_data.index, gas_price_data['价格(元/吨)'], label='Historical Oil Prices')\n",
    "plt.title('Historical Oil Prices Over Time')\n",
    "plt.xlabel('Year')\n",
    "plt.ylabel('Oil Price')\n",
    "plt.legend()\n",
    "plt.show()"
   ],
   "metadata": {
    "collapsed": false
   }
  },
  {
   "cell_type": "code",
   "execution_count": null,
   "outputs": [],
   "source": [
    "# 对同一月份内的数据进行平均值聚合\n",
    "gas_price_data = pd.read_excel(fp2[1])\n",
    "gas_price_data['调整日期'] = pd.to_datetime(gas_price_data['调整日期'])\n",
    "gas_price_data['调整日期'] = gas_price_data['调整日期'].dt.to_period('M')  # 截取年-月部分\n",
    "gas_price_data.set_index('调整日期', inplace=True)\n",
    "gas_price_data.head(10)"
   ],
   "metadata": {
    "collapsed": false
   }
  },
  {
   "cell_type": "code",
   "execution_count": null,
   "outputs": [],
   "source": [
    "gas_price_data = gas_price_data.resample('M').mean(numeric_only=True)\n",
    "gas_price_data.fillna(0, inplace=True)"
   ],
   "metadata": {
    "collapsed": false
   }
  },
  {
   "cell_type": "code",
   "execution_count": null,
   "outputs": [],
   "source": [
    "# 噪声检测\n",
    "def noise_detection_test(data):\n",
    "    # 拟合 ARIMA 模型\n",
    "    model = ARIMA(data, order=(1, 1, 1))  # 根据需要调整 ARIMA 模型的参数\n",
    "    model_fit = model.fit()\n",
    "\n",
    "    # 计算残差\n",
    "    residuals = model_fit.resid\n",
    "\n",
    "    # 可视化残差\n",
    "    plt.plot(residuals)\n",
    "    plt.title('Residuals of ARIMA Model')\n",
    "    plt.xlabel('Time')\n",
    "    plt.ylabel('Residuals')\n",
    "    plt.show()\n",
    "\n",
    "    # 进行 Ljung-Box 检验\n",
    "    df = acorr_ljungbox(residuals, lags=[20])\n",
    "    lb_stat, lb_p_value = df['lb_stat'], df['lb_pvalue']\n",
    "    print(f\"Ljung-Box test stat: {type(lb_stat)}, p-value: {type(lb_p_value)}\")\n",
    "\n",
    "noise_detection_test(gas_price_data['价格(元/吨)'])"
   ],
   "metadata": {
    "collapsed": false
   }
  },
  {
   "cell_type": "code",
   "execution_count": null,
   "outputs": [],
   "source": [
    "# 寻找 ARIMA 模型参数\n",
    "def find_best_arima_model(data):\n",
    "    tscv = TimeSeriesSplit(n_splits=5)\n",
    "    best_mse = np.inf\n",
    "    best_order = None\n",
    "\n",
    "    for train_index, test_index in tscv.split(data):\n",
    "        train, test = data[train_index], data[test_index]\n",
    "        order_candidate = [(p, d, q) for p in range(3) for d in range(2) for q in range(3)]\n",
    "\n",
    "        for order in order_candidate:\n",
    "            try:\n",
    "                model = ARIMA(train, order=order)\n",
    "                model_fit = model.fit()\n",
    "                predictions = model_fit.forecast(steps=len(test))\n",
    "                mse = mean_squared_error(test, predictions)\n",
    "\n",
    "                if mse < best_mse:\n",
    "                    best_mse = mse\n",
    "                    best_order = order\n",
    "            except:\n",
    "                continue\n",
    "\n",
    "    print(f\"Best ARIMA Order: {best_order}, Best MSE: {best_mse}\")"
   ],
   "metadata": {
    "collapsed": false
   }
  },
  {
   "cell_type": "code",
   "execution_count": null,
   "outputs": [],
   "source": [
    "gas_price_data"
   ],
   "metadata": {
    "collapsed": false
   }
  },
  {
   "cell_type": "code",
   "execution_count": null,
   "outputs": [],
   "source": [
    "\n",
    "# 进行 ARIMA 模型选择\n",
    "find_best_arima_model(gas_price_data['价格(元/吨)'])"
   ],
   "metadata": {
    "collapsed": false
   }
  },
  {
   "cell_type": "code",
   "execution_count": null,
   "outputs": [],
   "source": [
    "# 拆分训练集和测试集\n",
    "train_size = int(len(gas_price_data) * 0.8)\n",
    "train, test = gas_price_data[:train_size], gas_price_data[train_size:]"
   ],
   "metadata": {
    "collapsed": false
   }
  },
  {
   "cell_type": "code",
   "execution_count": null,
   "outputs": [],
   "source": [
    "# 训练 ARIMA 模型\n",
    "order = (5, 1, 0)  # 选择合适的 ARIMA 模型参数，这里只是一个示例\n",
    "model = ARIMA(train['价格(元/吨)'], order=order)\n",
    "model_fit = model.fit()\n",
    "\n",
    "# 模型预测\n",
    "predictions = model_fit.forecast(steps=len(test))\n",
    "\n",
    "# 6. 评估模型\n",
    "mse = mean_squared_error(test['价格(元/吨)'], predictions)\n",
    "print(f'Mean Squared Error: {mse}')"
   ],
   "metadata": {
    "collapsed": false
   }
  },
  {
   "cell_type": "code",
   "execution_count": null,
   "outputs": [],
   "source": [],
   "metadata": {
    "collapsed": false
   }
  },
  {
   "cell_type": "code",
   "execution_count": null,
   "outputs": [],
   "source": [],
   "metadata": {
    "collapsed": false
   }
  }
 ],
 "metadata": {
  "kernelspec": {
   "display_name": "Python 3",
   "language": "python",
   "name": "python3"
  },
  "language_info": {
   "codemirror_mode": {
    "name": "ipython",
    "version": 2
   },
   "file_extension": ".py",
   "mimetype": "text/x-python",
   "name": "python",
   "nbconvert_exporter": "python",
   "pygments_lexer": "ipython2",
   "version": "2.7.6"
  }
 },
 "nbformat": 4,
 "nbformat_minor": 0
}
